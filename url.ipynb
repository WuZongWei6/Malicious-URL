{
 "cells": [
  {
   "cell_type": "code",
   "execution_count": null,
   "metadata": {
    "collapsed": false
   },
   "outputs": [
    {
     "name": "stdout",
     "output_type": "stream",
     "text": [
      "data29776\r\n"
     ]
    }
   ],
   "source": [
    "# 查看当前挂载的数据集目录, 该目录下的变更重启环境后会自动还原\n",
    "# View dataset directory. This directory will be recovered automatically after resetting environment. \n",
    "!ls /home/aistudio/data"
   ]
  },
  {
   "cell_type": "code",
   "execution_count": null,
   "metadata": {
    "collapsed": false
   },
   "outputs": [],
   "source": [
    "# 查看工作区文件, 该目录下的变更将会持久保存. 请及时清理不必要的文件, 避免加载过慢.\n",
    "# View personal work directory. All changes under this directory will be kept even after reset. Please clean unnecessary files in time to speed up environment loading.\n",
    "!ls /home/aistudio/work"
   ]
  },
  {
   "cell_type": "markdown",
   "metadata": {
    "collapsed": false
   },
   "source": [
    "请点击[此处](https://ai.baidu.com/docs#/AIStudio_Project_Notebook/a38e5576)查看本环境基本用法.  <br>\n",
    "Please click [here ](https://ai.baidu.com/docs#/AIStudio_Project_Notebook/a38e5576) for more detailed instructions. "
   ]
  },
  {
   "cell_type": "code",
   "execution_count": 1,
   "metadata": {
    "collapsed": false
   },
   "outputs": [],
   "source": [
    "import numpy\r\n",
    "import paddle\r\n",
    "import paddle.fluid as fluid\r\n",
    "import csv\r\n",
    "import pandas as pd\r\n",
    "import numpy as np\r\n",
    "import os\r\n",
    "import matplotlib.pyplot as plt\r\n",
    "BATCH_SIZE=125\r\n",
    "IMAGE_SIZE=[1,40,120]\r\n"
   ]
  },
  {
   "cell_type": "code",
   "execution_count": 2,
   "metadata": {
    "collapsed": false
   },
   "outputs": [],
   "source": [
    "GOOD_URL_CSV='/home/aistudio/data/data29776/good.csv'\r\n",
    "BAD_URL_CSV='/home/aistudio/data/data29776/bad.csv'"
   ]
  },
  {
   "cell_type": "code",
   "execution_count": 3,
   "metadata": {
    "collapsed": false
   },
   "outputs": [
    {
     "data": {
      "text/plain": [
       "\"print('done----------------------------------------')\\nprint(i)\\nprint(Bad_url[0])\\nprint(len(Bad_url))\\nprint(type(Bad_url[-1]))\\nprint(Bad_url[-1])\\nprint(Bad_url[-2])\\nprint(Bad_url[2628])#CSV中2629行有两列数据，异常情况\\n\""
      ]
     },
     "execution_count": 3,
     "metadata": {},
     "output_type": "execute_result"
    }
   ],
   "source": [
    "#读取数据，并对数据进行清洗：去除被拆成好几列的URL，去除读取为空的行\r\n",
    "Good_url=[]\r\n",
    "Bad_url=[]\r\n",
    "#IO方法读取CSV中的URL数据，但是这种方法读大文件行数有错\r\n",
    "i=0\r\n",
    "with open(GOOD_URL_CSV) as csvfile:\r\n",
    "    csv_reader=csv.reader(csvfile)\r\n",
    "    for row in csv_reader:\r\n",
    "        i+=1\r\n",
    "        if i==75001:\r\n",
    "            break\r\n",
    "        #if len(row)!=1:\r\n",
    "            #print(\"i=\"+str(i)+\"   len=\"+str(len(row)))用来检查有没有URL是被拆成好几列，good.csv是没有的\r\n",
    "        Good_url.append(row[0])\r\n",
    "'''print(i)\r\n",
    "print(\"done---------------------------------------\")\r\n",
    "print(Good_url[0])\r\n",
    "print(Good_url[1])\r\n",
    "print(len(Good_url))\r\n",
    "print(Good_url[-1])'''\r\n",
    "\r\n",
    "i=0\r\n",
    "with open(BAD_URL_CSV) as csvfile:\r\n",
    "    csv_reader=csv.reader(csvfile)\r\n",
    "    for row in csv_reader:\r\n",
    "        \r\n",
    "        \r\n",
    "        #if len(row)!=1:\r\n",
    "        #    print(\"i=\"+str(i)+\"   len=\"+str(len(row)))用来查看那几个URL被拆分成了好几列\r\n",
    "        if len(row)==1:#只取没有被拆分的URL\r\n",
    "            i+=1\r\n",
    "            if i==65001:\r\n",
    "                break\r\n",
    "            Bad_url.append(row[0])\r\n",
    "'''print('done----------------------------------------')\r\n",
    "print(i)\r\n",
    "print(Bad_url[0])\r\n",
    "print(len(Bad_url))\r\n",
    "print(type(Bad_url[-1]))\r\n",
    "print(Bad_url[-1])\r\n",
    "print(Bad_url[-2])\r\n",
    "print(Bad_url[2628])#CSV中2629行有两列数据，异常情况\r\n",
    "'''"
   ]
  },
  {
   "cell_type": "code",
   "execution_count": 4,
   "metadata": {
    "collapsed": false
   },
   "outputs": [
    {
     "name": "stdout",
     "output_type": "stream",
     "text": [
      "75000\n",
      "65000\n"
     ]
    }
   ],
   "source": [
    "print(len(Good_url))\r\n",
    "print(len(Bad_url))"
   ]
  },
  {
   "cell_type": "code",
   "execution_count": 5,
   "metadata": {
    "collapsed": false
   },
   "outputs": [],
   "source": [
    "#产生label,0代表正常URL，1代表恶意URL\r\n",
    "good_label=[0]*len(Good_url)\r\n",
    "bad_label=[1]*len(Bad_url)\r\n"
   ]
  },
  {
   "cell_type": "code",
   "execution_count": 6,
   "metadata": {
    "collapsed": false
   },
   "outputs": [],
   "source": [
    "#去除标点符号并换成小写字符\r\n",
    "import re\r\n",
    "#punctuation = '~!@#$^&*()_+-=`\\\\][;.,/<>?:\"{}|\"'\r\n",
    "for i in range(len(Good_url)):\r\n",
    "    #Good_url[i]=re.sub(r'[{}]+'.format(punctuation),'',Good_url[i]).strip().lower()\r\n",
    "    Good_url[i]=re.sub(u\"([^\\u4e00-\\u9fa5\\u0030-\\u0039\\u0041-\\u005a\\u0061-\\u007a])\",\"\",Good_url[i]).strip().lower()\r\n",
    "\r\n",
    "for i in range(len(Bad_url)):\r\n",
    "    #Bad_url[i]=re.sub(r'[{}]+'.format(punctuation),'',Bad_url[i]).strip().lower()\r\n",
    "    Bad_url[i]=re.sub(u\"([^\\u4e00-\\u9fa5\\u0030-\\u0039\\u0041-\\u005a\\u0061-\\u007a])\",\"\",Bad_url[i]).strip().lower()\r\n"
   ]
  },
  {
   "cell_type": "code",
   "execution_count": 7,
   "metadata": {
    "collapsed": false
   },
   "outputs": [],
   "source": [
    "#合并好坏URL,并打乱\r\n",
    "temp_url=Good_url+Bad_url\r\n",
    "temp_label=good_label+bad_label\r\n",
    "#打乱顺序\r\n",
    "import random\r\n",
    "index=list(range(len(temp_url)))\r\n",
    "random.shuffle(index)\r\n",
    "#print(index[0:100])\r\n",
    "#print(len(index))\r\n",
    "url=[]\r\n",
    "label=[]\r\n",
    "\r\n",
    "for i in range(len(index)):\r\n",
    "    url.append(temp_url[index[i]])\r\n",
    "    label.append(temp_label[index[i]])"
   ]
  },
  {
   "cell_type": "code",
   "execution_count": 8,
   "metadata": {
    "collapsed": false
   },
   "outputs": [],
   "source": [
    "#划分数据集\r\n",
    "TRAIN_TEST_RATIO=0.8#划分比例\r\n",
    "train_url=url[:int(len(url)*TRAIN_TEST_RATIO)]\r\n",
    "train_label=label[:int(len(label)*TRAIN_TEST_RATIO)]\r\n",
    "\r\n",
    "test_url=url[int(len(url)*TRAIN_TEST_RATIO):]\r\n",
    "test_label=label[int(len(label)*TRAIN_TEST_RATIO):]\r\n",
    "\r\n",
    "#训练数据的数量\r\n",
    "train_num=len(url)*TRAIN_TEST_RATIO\r\n",
    "test_num=len(url)-train_num"
   ]
  },
  {
   "cell_type": "code",
   "execution_count": 9,
   "metadata": {
    "collapsed": false
   },
   "outputs": [
    {
     "name": "stderr",
     "output_type": "stream",
     "text": [
      "2020-04-22 15:00:00,249-WARNING: unable to import 'smart_open.gcs', disabling that module\n",
      "2020-04-22 15:00:00,302-INFO: collecting all words and their counts\n",
      "2020-04-22 15:00:00,304-INFO: PROGRESS: at sentence #0, processed 0 words, keeping 0 word types\n"
     ]
    },
    {
     "name": "stdout",
     "output_type": "stream",
     "text": [
      "45.6125\n"
     ]
    },
    {
     "name": "stderr",
     "output_type": "stream",
     "text": [
      "2020-04-22 15:00:00,733-INFO: collected 118 word types from a corpus of 5108619 raw words and 511 sentences\n",
      "2020-04-22 15:00:00,735-INFO: Loading a fresh vocabulary\n",
      "2020-04-22 15:00:00,735-INFO: effective_min_count=5 retains 50 unique words (42% of original 118, drops 68)\n",
      "2020-04-22 15:00:00,736-INFO: effective_min_count=5 leaves 5108520 word corpus (99% of original 5108619, drops 99)\n",
      "2020-04-22 15:00:00,736-INFO: deleting the raw counts dictionary of 118 items\n",
      "2020-04-22 15:00:00,737-INFO: sample=0.001 downsamples 36 most-common words\n",
      "2020-04-22 15:00:00,738-INFO: downsampling leaves estimated 1079481 word corpus (21.1% of prior 5108520)\n",
      "2020-04-22 15:00:00,738-INFO: constructing a huffman tree from 50 words\n",
      "2020-04-22 15:00:00,739-INFO: built huffman tree with maximum node depth 15\n",
      "2020-04-22 15:00:00,740-INFO: estimated required memory for 50 words and 128 dimensions: 111800 bytes\n",
      "2020-04-22 15:00:00,740-INFO: resetting layer weights\n",
      "2020-04-22 15:00:00,742-INFO: training model with 8 workers on 50 vocabulary and 128 features, using sg=1 hs=1 sample=0.001 negative=3 window=5\n",
      "2020-04-22 15:00:01,755-INFO: EPOCH 1 - PROGRESS: at 25.24% examples, 270790 words/s, in_qsize 15, out_qsize 0\n",
      "2020-04-22 15:00:02,762-INFO: EPOCH 1 - PROGRESS: at 51.08% examples, 273758 words/s, in_qsize 15, out_qsize 0\n",
      "2020-04-22 15:00:03,762-INFO: EPOCH 1 - PROGRESS: at 77.10% examples, 275946 words/s, in_qsize 15, out_qsize 0\n",
      "2020-04-22 15:00:04,602-INFO: worker thread finished; awaiting finish of 7 more threads\n",
      "2020-04-22 15:00:04,608-INFO: worker thread finished; awaiting finish of 6 more threads\n",
      "2020-04-22 15:00:04,613-INFO: worker thread finished; awaiting finish of 5 more threads\n",
      "2020-04-22 15:00:04,613-INFO: worker thread finished; awaiting finish of 4 more threads\n",
      "2020-04-22 15:00:04,624-INFO: worker thread finished; awaiting finish of 3 more threads\n",
      "2020-04-22 15:00:04,625-INFO: worker thread finished; awaiting finish of 2 more threads\n",
      "2020-04-22 15:00:04,626-INFO: worker thread finished; awaiting finish of 1 more threads\n",
      "2020-04-22 15:00:04,627-INFO: worker thread finished; awaiting finish of 0 more threads\n",
      "2020-04-22 15:00:04,627-INFO: EPOCH - 1 : training on 5108619 raw words (1079659 effective words) took 3.9s, 278342 effective words/s\n",
      "2020-04-22 15:00:05,634-INFO: EPOCH 2 - PROGRESS: at 24.85% examples, 268194 words/s, in_qsize 15, out_qsize 0\n",
      "2020-04-22 15:00:06,645-INFO: EPOCH 2 - PROGRESS: at 51.08% examples, 274193 words/s, in_qsize 15, out_qsize 0\n",
      "2020-04-22 15:00:07,646-INFO: EPOCH 2 - PROGRESS: at 77.30% examples, 276838 words/s, in_qsize 16, out_qsize 0\n",
      "2020-04-22 15:00:08,484-INFO: worker thread finished; awaiting finish of 7 more threads\n",
      "2020-04-22 15:00:08,490-INFO: worker thread finished; awaiting finish of 6 more threads\n",
      "2020-04-22 15:00:08,491-INFO: worker thread finished; awaiting finish of 5 more threads\n",
      "2020-04-22 15:00:08,491-INFO: worker thread finished; awaiting finish of 4 more threads\n",
      "2020-04-22 15:00:08,493-INFO: worker thread finished; awaiting finish of 3 more threads\n",
      "2020-04-22 15:00:08,506-INFO: worker thread finished; awaiting finish of 2 more threads\n",
      "2020-04-22 15:00:08,507-INFO: worker thread finished; awaiting finish of 1 more threads\n",
      "2020-04-22 15:00:08,508-INFO: worker thread finished; awaiting finish of 0 more threads\n",
      "2020-04-22 15:00:08,508-INFO: EPOCH - 2 : training on 5108619 raw words (1079677 effective words) took 3.9s, 278443 effective words/s\n",
      "2020-04-22 15:00:09,515-INFO: EPOCH 3 - PROGRESS: at 25.05% examples, 270180 words/s, in_qsize 15, out_qsize 0\n",
      "2020-04-22 15:00:10,519-INFO: EPOCH 3 - PROGRESS: at 51.27% examples, 275662 words/s, in_qsize 15, out_qsize 0\n",
      "2020-04-22 15:00:11,522-INFO: EPOCH 3 - PROGRESS: at 77.50% examples, 277901 words/s, in_qsize 15, out_qsize 0\n",
      "2020-04-22 15:00:12,338-INFO: worker thread finished; awaiting finish of 7 more threads\n",
      "2020-04-22 15:00:12,341-INFO: worker thread finished; awaiting finish of 6 more threads\n",
      "2020-04-22 15:00:12,347-INFO: worker thread finished; awaiting finish of 5 more threads\n",
      "2020-04-22 15:00:12,353-INFO: worker thread finished; awaiting finish of 4 more threads\n",
      "2020-04-22 15:00:12,354-INFO: worker thread finished; awaiting finish of 3 more threads\n",
      "2020-04-22 15:00:12,357-INFO: worker thread finished; awaiting finish of 2 more threads\n",
      "2020-04-22 15:00:12,358-INFO: worker thread finished; awaiting finish of 1 more threads\n",
      "2020-04-22 15:00:12,361-INFO: worker thread finished; awaiting finish of 0 more threads\n",
      "2020-04-22 15:00:12,361-INFO: EPOCH - 3 : training on 5108619 raw words (1080370 effective words) took 3.8s, 280670 effective words/s\n",
      "2020-04-22 15:00:13,379-INFO: EPOCH 4 - PROGRESS: at 25.24% examples, 269068 words/s, in_qsize 15, out_qsize 0\n",
      "2020-04-22 15:00:14,383-INFO: EPOCH 4 - PROGRESS: at 51.27% examples, 274594 words/s, in_qsize 15, out_qsize 0\n",
      "2020-04-22 15:00:15,390-INFO: EPOCH 4 - PROGRESS: at 77.10% examples, 275311 words/s, in_qsize 15, out_qsize 0\n",
      "2020-04-22 15:00:16,225-INFO: worker thread finished; awaiting finish of 7 more threads\n",
      "2020-04-22 15:00:16,226-INFO: worker thread finished; awaiting finish of 6 more threads\n",
      "2020-04-22 15:00:16,229-INFO: worker thread finished; awaiting finish of 5 more threads\n",
      "2020-04-22 15:00:16,242-INFO: worker thread finished; awaiting finish of 4 more threads\n",
      "2020-04-22 15:00:16,244-INFO: worker thread finished; awaiting finish of 3 more threads\n",
      "2020-04-22 15:00:16,246-INFO: worker thread finished; awaiting finish of 2 more threads\n",
      "2020-04-22 15:00:16,248-INFO: worker thread finished; awaiting finish of 1 more threads\n",
      "2020-04-22 15:00:16,250-INFO: worker thread finished; awaiting finish of 0 more threads\n",
      "2020-04-22 15:00:16,251-INFO: EPOCH - 4 : training on 5108619 raw words (1080185 effective words) took 3.9s, 277984 effective words/s\n",
      "2020-04-22 15:00:17,255-INFO: EPOCH 5 - PROGRESS: at 24.07% examples, 259339 words/s, in_qsize 16, out_qsize 0\n",
      "2020-04-22 15:00:18,274-INFO: EPOCH 5 - PROGRESS: at 42.86% examples, 228990 words/s, in_qsize 15, out_qsize 0\n",
      "2020-04-22 15:00:19,282-INFO: EPOCH 5 - PROGRESS: at 61.84% examples, 220339 words/s, in_qsize 15, out_qsize 0\n",
      "2020-04-22 15:00:20,284-INFO: EPOCH 5 - PROGRESS: at 80.63% examples, 215999 words/s, in_qsize 15, out_qsize 0\n",
      "2020-04-22 15:00:21,245-INFO: worker thread finished; awaiting finish of 7 more threads\n",
      "2020-04-22 15:00:21,269-INFO: worker thread finished; awaiting finish of 6 more threads\n",
      "2020-04-22 15:00:21,270-INFO: worker thread finished; awaiting finish of 5 more threads\n",
      "2020-04-22 15:00:21,283-INFO: worker thread finished; awaiting finish of 4 more threads\n",
      "2020-04-22 15:00:21,284-INFO: worker thread finished; awaiting finish of 3 more threads\n",
      "2020-04-22 15:00:21,285-INFO: EPOCH 5 - PROGRESS: at 99.61% examples, 213799 words/s, in_qsize 2, out_qsize 1\n",
      "2020-04-22 15:00:21,286-INFO: worker thread finished; awaiting finish of 2 more threads\n",
      "2020-04-22 15:00:21,287-INFO: worker thread finished; awaiting finish of 1 more threads\n",
      "2020-04-22 15:00:21,287-INFO: worker thread finished; awaiting finish of 0 more threads\n",
      "2020-04-22 15:00:21,288-INFO: EPOCH - 5 : training on 5108619 raw words (1079444 effective words) took 5.0s, 214468 effective words/s\n",
      "2020-04-22 15:00:21,288-INFO: training on a 25543095 raw words (5399335 effective words) took 20.5s, 262796 effective words/s\n",
      "2020-04-22 15:00:21,289-INFO: saving Word2Vec object under work/text8.model, separately None\n",
      "2020-04-22 15:00:21,290-INFO: not storing attribute vectors_norm\n",
      "2020-04-22 15:00:21,290-INFO: not storing attribute cum_table\n",
      "2020-04-22 15:00:21,293-INFO: saved work/text8.model\n"
     ]
    },
    {
     "name": "stdout",
     "output_type": "stream",
     "text": [
      "[-0.0187124  -0.06282087 -0.0263399   0.04901152 -0.07029396  0.08422515\n",
      "  0.02397308  0.03067249  0.1434552  -0.02158599 -0.12204017 -0.1149509\n",
      "  0.03863388  0.16342464  0.16787936 -0.1349781   0.00391852  0.07916425\n",
      " -0.0253313  -0.16323286 -0.09555509  0.28327897 -0.0684014  -0.06427868\n",
      "  0.01829266 -0.05191394 -0.03066062 -0.0187899   0.14166272 -0.21678706\n",
      "  0.11278098  0.08650496  0.03239655  0.00690319 -0.01557129  0.04835958\n",
      "  0.05195436 -0.09048165 -0.01498206 -0.01206772 -0.00559496  0.11510323\n",
      " -0.03360729 -0.02594539  0.05028115  0.0601222   0.02871487  0.05305479\n",
      "  0.04275453  0.20969604  0.03637862  0.11892989  0.12099355 -0.00758725\n",
      " -0.02062558 -0.04066593  0.05590518  0.03860995 -0.14589526  0.0012592\n",
      "  0.01439236 -0.04574645  0.13599195  0.02125102 -0.13369961  0.10360084\n",
      "  0.04913789 -0.14312121  0.08811873  0.15403923 -0.09783415 -0.18751454\n",
      "  0.1314564  -0.13763806 -0.0386255  -0.11756311 -0.01796903 -0.17319609\n",
      " -0.02033709 -0.03894801 -0.1160498  -0.01887011  0.08120737 -0.14648488\n",
      " -0.03085325  0.16236423 -0.05655076 -0.02573429 -0.00385483  0.1298995\n",
      "  0.01935881 -0.00751675 -0.00914496  0.08136588  0.00069429 -0.1244887\n",
      "  0.00874429 -0.01153251 -0.00615329  0.09145302  0.08344708 -0.01891926\n",
      " -0.01912467 -0.02702969  0.04274033  0.15166654  0.08283533 -0.02171026\n",
      " -0.02325756 -0.04926625  0.01482373  0.05670793  0.01780434 -0.03585219\n",
      "  0.048242    0.02376155 -0.01864848 -0.07427877  0.04063738  0.04438077\n",
      "  0.00748863 -0.00342175  0.01836308  0.04005905 -0.02329534 -0.04242756\n",
      "  0.04966387 -0.00344242]\n"
     ]
    },
    {
     "name": "stderr",
     "output_type": "stream",
     "text": [
      "/opt/conda/envs/python35-paddle120-env/lib/python3.7/site-packages/ipykernel_launcher.py:35: DeprecationWarning: Call to deprecated `__getitem__` (Method will be removed in 4.0.0, use self.wv.__getitem__() instead).\n"
     ]
    }
   ],
   "source": [
    "#制作词向量\r\n",
    "#统计训练URL的平均字符长度\r\n",
    "total_char=0\r\n",
    "average_len=0\r\n",
    "#gensim包要求数据没有标点没有换行符，因此要把训练数据组织成一个长字符串\r\n",
    "#构建未知字符取代标识<unk>\r\n",
    "unk_token=\"<unk>\"\r\n",
    "unk_token=unk_token*10\r\n",
    "unk_token=unk_token[0:-1]\r\n",
    "word_vector_data=\"\"\r\n",
    "for i in range(len(train_url)):\r\n",
    "    temp=train_url[i]\r\n",
    "    total_char+=len(temp)\r\n",
    "    temp=''.join([c+' ' for c in temp])\r\n",
    "    word_vector_data+=temp\r\n",
    "word_vector_data=word_vector_data+unk_token\r\n",
    "#word_vector_data=word_vector_data[0:-1]#去掉最后一个空格\r\n",
    "#统计训练URL的平均长度\r\n",
    "average_len=total_char/len(train_url)\r\n",
    "print(average_len)\r\n",
    "#将处理好的长字符串写入txt供后面生成词向量\r\n",
    "with open(\"work/text.txt\", \"w\", encoding='utf-8') as f:\r\n",
    "    unk_str=\"<unk> <unk> <unk> <unk> <unk> <unk> <unk> <unk> <unk> <unk>\"\r\n",
    "    f.write(str(word_vector_data)+str(unk_str))\r\n",
    "    f.write(unk_str)\r\n",
    "    f.close()\r\n",
    "#print(word_vector_data[0:100])\r\n",
    "#数据处理部分\r\n",
    "from gensim.models import word2vec\r\n",
    "import logging\r\n",
    "logging.basicConfig(format='%(asctime)s : %(levelname)s : %(message)s', level=logging.INFO)\r\n",
    "sentences = word2vec.Text8Corpus('work/text.txt')\r\n",
    "model = word2vec.Word2Vec(sentences, sg=1, size=128, window=5, min_count=5, negative=3, sample=0.001, hs=1, workers=8)#worker=4\r\n",
    "model.save('work/text8.model')\r\n",
    "print(model['a'])"
   ]
  },
  {
   "cell_type": "code",
   "execution_count": null,
   "metadata": {
    "collapsed": false
   },
   "outputs": [
    {
     "ename": "NameError",
     "evalue": "name 'model' is not defined",
     "output_type": "error",
     "traceback": [
      "\u001b[0;31m---------------------------------------------------------------------------\u001b[0m",
      "\u001b[0;31mNameError\u001b[0m                                 Traceback (most recent call last)",
      "\u001b[0;32m<ipython-input-8-d379d02d817f>\u001b[0m in \u001b[0;36m<module>\u001b[0;34m\u001b[0m\n\u001b[0;32m----> 1\u001b[0;31m \u001b[0mprint\u001b[0m\u001b[0;34m(\u001b[0m\u001b[0mmodel\u001b[0m\u001b[0;34m[\u001b[0m\u001b[0;34m'-'\u001b[0m\u001b[0;34m]\u001b[0m\u001b[0;34m)\u001b[0m\u001b[0;34m\u001b[0m\u001b[0;34m\u001b[0m\u001b[0m\n\u001b[0m\u001b[1;32m      2\u001b[0m \u001b[0;31m#标点符号没有清干净\u001b[0m\u001b[0;34m\u001b[0m\u001b[0;34m\u001b[0m\u001b[0;34m\u001b[0m\u001b[0m\n",
      "\u001b[0;31mNameError\u001b[0m: name 'model' is not defined"
     ]
    }
   ],
   "source": [
    "print(model['-'])\r\n",
    "#标点符号没有清干净"
   ]
  },
  {
   "cell_type": "code",
   "execution_count": 10,
   "metadata": {
    "collapsed": false
   },
   "outputs": [
    {
     "name": "stderr",
     "output_type": "stream",
     "text": [
      "2020-04-22 15:00:52,367-INFO: loading Word2Vec object from work/text8.model\n",
      "2020-04-22 15:00:52,369-INFO: loading wv recursively from work/text8.model.wv.* with mmap=None\n",
      "2020-04-22 15:00:52,370-INFO: setting ignored attribute vectors_norm to None\n",
      "2020-04-22 15:00:52,371-INFO: loading vocabulary recursively from work/text8.model.vocabulary.* with mmap=None\n",
      "2020-04-22 15:00:52,371-INFO: loading trainables recursively from work/text8.model.trainables.* with mmap=None\n",
      "2020-04-22 15:00:52,372-INFO: setting ignored attribute cum_table to None\n",
      "2020-04-22 15:00:52,372-INFO: loaded work/text8.model\n",
      "/opt/conda/envs/python35-paddle120-env/lib/python3.7/site-packages/ipykernel_launcher.py:25: DeprecationWarning: Call to deprecated `__getitem__` (Method will be removed in 4.0.0, use self.wv.__getitem__() instead).\n",
      "/opt/conda/envs/python35-paddle120-env/lib/python3.7/site-packages/ipykernel_launcher.py:22: DeprecationWarning: Call to deprecated `__getitem__` (Method will be removed in 4.0.0, use self.wv.__getitem__() instead).\n"
     ]
    }
   ],
   "source": [
    "from gensim.models import word2vec\r\n",
    "model = word2vec.Word2Vec.load('work/text8.model')\r\n",
    "#求的URL长度在42左右浮动，因此设定URL特征图维42*128,大于42就截断，小于42就补0\r\n",
    "def urlToimage(url):#将URL转化为特征图\r\n",
    "    #先将URL长度填充0或截断到42\r\n",
    "    if len(url)>42:#截断\r\n",
    "        url=url[0:42]\r\n",
    "    elif len(url)==42:#刚好等于42不处理\r\n",
    "        pass\r\n",
    "    else:#补0\r\n",
    "        n=42-len(url)\r\n",
    "        url+=\"0\"*n\r\n",
    "    ls=[]\r\n",
    "    punctuation = '~!@#$^&*()_+-=`\\\\][;.,/<>?:\"{}|\"'\r\n",
    "    for c in url:#还要判断未知字符\r\n",
    "        #print(c)\r\n",
    "\r\n",
    "        if c in punctuation:\r\n",
    "            print(\"!!!!!!!!!!!!!!!!!!!!!!!!!!!!!!!!!!!!!!!!!!!!!!!!!!!!!!!!!!!!!!!!!!!\"+c)\r\n",
    "        if c not in list(model.wv.vocab.keys()):\r\n",
    "            #ls+=model['unk']\r\n",
    "            ls.append(model['<unk>'])\r\n",
    "        else:\r\n",
    "            #ls+=model[c]\r\n",
    "            ls.append(model[c])\r\n",
    "    #print(np.array(ls).shape)\r\n",
    "    result=np.array(ls).reshape(1,42,128)\r\n",
    "    return result\r\n",
    "\r\n",
    "#下面将train_url变成tarin_data,test_url变成test_data，即URL变成42*128特征图\r\n",
    "train_data=[]\r\n",
    "test_data=[]\r\n",
    "for url in train_url:\r\n",
    "    train_data.append(urlToimage(url))\r\n",
    "for url in test_url:\r\n",
    "    test_data.append(urlToimage(url))"
   ]
  },
  {
   "cell_type": "code",
   "execution_count": 11,
   "metadata": {
    "collapsed": false
   },
   "outputs": [
    {
     "name": "stdout",
     "output_type": "stream",
     "text": [
      "[[[-0.0187124  -0.06282087 -0.0263399  ... -0.04242756  0.04966387\n",
      "   -0.00344242]\n",
      "  [-0.11512183 -0.16715209 -0.08037066 ... -0.02544593 -0.01817432\n",
      "   -0.05763728]\n",
      "  [-0.11512183 -0.16715209 -0.08037066 ... -0.02544593 -0.01817432\n",
      "   -0.05763728]\n",
      "  ...\n",
      "  [ 0.0260397  -0.05452318 -0.14031813 ... -0.02053696  0.02675276\n",
      "   -0.07420383]\n",
      "  [-0.06401318 -0.13045834 -0.07590675 ... -0.0068964   0.07175549\n",
      "   -0.03930652]\n",
      "  [ 0.0260397  -0.05452318 -0.14031813 ... -0.02053696  0.02675276\n",
      "   -0.07420383]]]\n",
      "(1, 42, 128)\n"
     ]
    }
   ],
   "source": [
    "print(train_data[0])\r\n",
    "print(train_data[0].shape)"
   ]
  },
  {
   "cell_type": "code",
   "execution_count": 12,
   "metadata": {
    "collapsed": false
   },
   "outputs": [],
   "source": [
    "#定义特征图reader\r\n",
    "def image_reader(img_set,label_set):\r\n",
    "    def reader():\r\n",
    "        for i in range(len(img_set)):\r\n",
    "            label=label_set[i]\r\n",
    "            yield img_set[i][:],label\r\n",
    "    return reader\r\n",
    "\r\n",
    "train_reader=paddle.batch(paddle.reader.shuffle(\r\n",
    "                        image_reader(train_data,train_label),buf_size=2000),batch_size=BATCH_SIZE)\r\n",
    "test_reader = paddle.batch(paddle.reader.shuffle(\r\n",
    "                        image_reader(test_data, test_label),buf_size=1000),batch_size=BATCH_SIZE)"
   ]
  },
  {
   "cell_type": "markdown",
   "metadata": {
    "collapsed": true
   },
   "source": [
    "# **VGG**"
   ]
  },
  {
   "cell_type": "code",
   "execution_count": 13,
   "metadata": {
    "collapsed": false
   },
   "outputs": [],
   "source": [
    "#定义网络结构VGG\r\n",
    "def conv_block(input, num_filter, groups, name=None):\r\n",
    "    conv = input\r\n",
    "    for i in range(groups):\r\n",
    "        conv = fluid.layers.conv2d(\r\n",
    "            input=conv,\r\n",
    "            num_filters=num_filter,\r\n",
    "            filter_size=3,\r\n",
    "            stride=1,\r\n",
    "            padding=1,\r\n",
    "            act=None,\r\n",
    "            param_attr=fluid.param_attr.ParamAttr(name=name + str(i + 1) + \"_weights\"),\r\n",
    "            bias_attr=False)\r\n",
    "        conv = fluid.layers.batch_norm(input=conv,act='relu')\r\n",
    "    \r\n",
    "    return fluid.layers.pool2d(input=conv, pool_size=2, pool_type='max', pool_stride=2)\r\n",
    "\r\n",
    "def vgg():\r\n",
    "    img = fluid.layers.data(name='image',shape=[1, 42, 128],dtype='float32')\r\n",
    "    #y = fluid.layers.data(name='label',shape=[1],dtype='int32')#,lod_level=1)\r\n",
    "    \r\n",
    "    L2_RATE = 4e-4\r\n",
    "    regularizer = fluid.regularizer.L2Decay(L2_RATE)\r\n",
    "    vgg_spec = {\r\n",
    "        11: ([1, 1, 2, 2, 2]),\r\n",
    "        13: ([2, 2, 2, 2, 2]),\r\n",
    "        16: ([2, 2, 3, 3, 3]),\r\n",
    "        19: ([2, 2, 4, 4, 4])\r\n",
    "    }\r\n",
    "    \r\n",
    "    nums = vgg_spec[19]\r\n",
    "    conv1 = conv_block(img, 64, nums[0], name=\"conv1_\")\r\n",
    "    conv2 = conv_block(conv1, 128, nums[1], name=\"conv2_\")\r\n",
    "    conv3 = conv_block(conv2, 256, nums[2], name=\"conv3_\")\r\n",
    "    conv4 = conv_block(conv3, 512, nums[3], name=\"conv4_\")\r\n",
    "    conv5 = conv_block(conv4, 512, nums[4], name=\"conv5_\")\r\n",
    "    \r\n",
    "    fc_dim = 4096\r\n",
    "    fc_name = [\"fc6\", \"fc7\", \"fc8\"]\r\n",
    "    fc1 = fluid.layers.fc(\r\n",
    "        input=conv5,\r\n",
    "        size=fc_dim,\r\n",
    "        act='relu',\r\n",
    "        param_attr=fluid.param_attr.ParamAttr(name=fc_name[0] + \"_weights\"),\r\n",
    "        bias_attr=fluid.param_attr.ParamAttr(name=fc_name[0] + \"_offset\"))\r\n",
    "    fc1 = fluid.layers.dropout(x=fc1, dropout_prob=0.5)\r\n",
    "    fc2 = fluid.layers.fc(\r\n",
    "        input=fc1,\r\n",
    "        size=fc_dim,\r\n",
    "        act='relu',\r\n",
    "        param_attr=fluid.param_attr.ParamAttr(name=fc_name[1] + \"_weights\"),\r\n",
    "        bias_attr=fluid.param_attr.ParamAttr(name=fc_name[1] + \"_offset\"))\r\n",
    "    fc2 = fluid.layers.dropout(x=fc2, dropout_prob=0.5)\r\n",
    "    out = fluid.layers.fc(\r\n",
    "            input=fc2,\r\n",
    "            size=2,\r\n",
    "            act='softmax',\r\n",
    "            param_attr=fluid.param_attr.ParamAttr(name=fc_name[2] + \"_weights\"),\r\n",
    "            bias_attr=fluid.param_attr.ParamAttr(name=fc_name[2] + \"_offset\"))\r\n",
    "    #out=fluid.layers.sigmoid(out)\r\n",
    "    return out\r\n",
    "    #可以尝试2个输出单元，这样听说效果好因为参数多了一倍"
   ]
  },
  {
   "cell_type": "markdown",
   "metadata": {
    "collapsed": false
   },
   "source": [
    "# **选择网络**"
   ]
  },
  {
   "cell_type": "code",
   "execution_count": 14,
   "metadata": {
    "collapsed": false
   },
   "outputs": [],
   "source": [
    "'''def train_cnn():\r\n",
    "    label_y=fluid.layers.data(name='label',shape=[1],dtype='int')\r\n",
    "    out=vgg()\r\n",
    "    print(type(out))\r\n",
    "    label_in=fluid.layers.cast(x=label_y,dtype='float32')\r\n",
    "    cost = fluid.layers.cross_entropy(input=out,label=label_in,soft_label=True)\r\n",
    "    #cost=fluid.layers.cross_entropy(input=out, label=label_in)\r\n",
    "    sum_cost = fluid.layers.mean(cost)\r\n",
    "    return sum_cost,out'''\r\n",
    "#均方差要两个都是float，交叉熵一个float一个int\r\n",
    "def train_cnn():\r\n",
    "    label_y=fluid.layers.data(name='label',shape=[1],dtype='int64')\r\n",
    "    out=vgg()\r\n",
    "    print(type(out))\r\n",
    "    cost = fluid.layers.cross_entropy(input=out,label=label_y,soft_label=False)\r\n",
    "    #cost=fluid.layers.cross_entropy(input=out, label=label_in)\r\n",
    "    sum_cost = fluid.layers.mean(cost)\r\n",
    "    return sum_cost,out"
   ]
  },
  {
   "cell_type": "code",
   "execution_count": 15,
   "metadata": {
    "collapsed": false
   },
   "outputs": [
    {
     "name": "stdout",
     "output_type": "stream",
     "text": [
      "<class 'paddle.fluid.framework.Variable'>\n"
     ]
    }
   ],
   "source": [
    "use_cuda=True\r\n",
    "place=fluid.CUDAPlace(0) if use_cuda else fluid.CPUPlace()\r\n",
    "sum_cost,predict=train_cnn()\r\n",
    "main_program=fluid.default_main_program()\r\n",
    "start_program=fluid.default_startup_program()\r\n",
    "test_program=main_program.clone(for_test=True)\r\n",
    "\r\n",
    "LEARNING_RATE=0.01\r\n",
    "optimizer=fluid.optimizer.AdamOptimizer(LEARNING_RATE)\r\n",
    "optimizer.minimize(sum_cost)\r\n",
    "exe=fluid.Executor(place)\r\n",
    "feeder = fluid.DataFeeder(place=place,feed_list=['image','label'])"
   ]
  },
  {
   "cell_type": "code",
   "execution_count": 16,
   "metadata": {
    "collapsed": false
   },
   "outputs": [
    {
     "name": "stdout",
     "output_type": "stream",
     "text": [
      "训练结束！\r"
     ]
    },
    {
     "data": {
      "image/png": "[encoded data removed]",
      "text/plain": [
       "<Figure size 432x288 with 1 Axes>"
      ]
     },
     "metadata": {},
     "output_type": "display_data"
    }
   ],
   "source": [
    "#绘图相关变量和函数,画图是对每个batch的cost和acc画图，最后输出epoch的acc\r\n",
    "Train_iter=0\r\n",
    "Train_iters=[]\r\n",
    "Train_costs=[]\r\n",
    "Train_batchs_accs=[]#每个batch的acc，画图画的是每个batch的acc\r\n",
    "def Draw_training_process(title,iters,costs,accs,label_cost,label_acc):\r\n",
    "    plt.title(title,fontsize=25)\r\n",
    "    plt.xlabel(\"iter\",fontsize=20)\r\n",
    "    plt.ylabel(\"Training cost/Training accuracy\")\r\n",
    "    plt.plot(iters,costs,color='blue',label=label_cost)\r\n",
    "    plt.plot(iters,accs,color='red',label=label_acc)\r\n",
    "    plt.legend()\r\n",
    "    plt.grid()\r\n",
    "    plt.savefig(\"/home/aistudio/work/vgg.png\")\r\n",
    "    plt.show()\r\n",
    "#----------------\r\n",
    "EPOCH_NUM=100\r\n",
    "model_save_dir=\"work/vgg/\"\r\n",
    "exe.run(start_program)\r\n",
    "for pass_id in range(EPOCH_NUM):\r\n",
    "    #进行训练\r\n",
    "    if pass_id%25==0 and pass_id>=25:\r\n",
    "        #每25个EPOCH后学习率下降\r\n",
    "        LEARNING_RATE=LEARNING_RATE/10\r\n",
    "    train_correct_num=0#用来计算每个epoch有多少正确的\r\n",
    "    \r\n",
    "    for batch_id,data_train in enumerate(train_reader()):\r\n",
    "        train_cost=exe.run(program=main_program,#运行主程序\r\n",
    "                            feed=feeder.feed(data_train),\r\n",
    "                            fetch_list=[sum_cost,predict])\r\n",
    "        every_batch_correct_num=0#用来计算每个batch有多少正确\r\n",
    "        for d in range(BATCH_SIZE):#计算accuracy\r\n",
    "            try:\r\n",
    "                d_predict=train_cost[1][d]#[1]是125个样本的sigmoid结果，[d]代表第几个sample\r\n",
    "                d_label=data_train[d][1]#0是特征值矩阵42*128，1是label\r\n",
    "            except Exception as e:\r\n",
    "                print(\"error:\"+str(e))\r\n",
    "                print(\"X================\")\r\n",
    "                print(train_cost)\r\n",
    "                \r\n",
    "                #print(\"d=\"+str(d))\r\n",
    "                #print(data_train[d-1][0])\r\n",
    "                #print(data_train[d][0])\r\n",
    "                #print(data_train[d])\r\n",
    "                print(train_cost[1])\r\n",
    "            #print(d_predict)\r\n",
    "            #print(d_predict.shape)\r\n",
    "            #print(d_label)\r\n",
    "            '''if abs(d_predict-d_label)<0.5:\r\n",
    "                train_correct_num+=1\r\n",
    "            '''#输出层size=1时\r\n",
    "            #print(d_predict)\r\n",
    "            #print('---')\r\n",
    "            if (d_predict[0]<=d_predict[1] and d_label==1) or (d_predict[0]>d_predict[1] and d_label==0):\r\n",
    "                train_correct_num+=1#用来计算每个epoch有多少正确的\r\n",
    "                every_batch_correct_num+=1#用来计算每个batch有多少正确\r\n",
    "        Train_iter=Train_iter+BATCH_SIZE\r\n",
    "        Train_iters.append(Train_iter)\r\n",
    "        Train_costs.append(train_cost[0])\r\n",
    "        every_batch_acc=every_batch_correct_num/BATCH_SIZE\r\n",
    "        Train_batchs_accs.append(every_batch_acc)#每个batch的acc\r\n",
    "        #每100个batch打印一次信息，误差准确率\r\n",
    "        #print(\"检查acc是否一致:我的acc:\"+str(every_batch_acc))\r\n",
    "        if batch_id%100==0:\r\n",
    "            print('pass:',pass_id,' batch:',batch_id,' cost:',train_cost[0])\r\n",
    "    train_epochs_acc=train_correct_num/train_num#每个epoch的准确率\r\n",
    "    #sum=0\r\n",
    "    #for ac in Train_batchs_accs:\r\n",
    "    #    sum+=ac\r\n",
    "    #result=sum/len(Train_batchs_accs)\r\n",
    "    \r\n",
    "    \r\n",
    "    #print(\"检查！\"+str(result)+\"epoch:\"+str(train_epochs_acc))\r\n",
    "    print(\"每训练完一个epoch，train_epochs_acc:\",train_epochs_acc)\r\n",
    "    \r\n",
    "    #进行测试\r\n",
    "    test_correct_num=0\r\n",
    "    for batch_id,data_test in enumerate(test_reader()):\r\n",
    "        avg_cost_np=exe.run(program=test_program,\r\n",
    "                            feed=feeder.feed(data_test),\r\n",
    "                            fetch_list=[sum_cost,predict])\r\n",
    "        \r\n",
    "        for d in range(BATCH_SIZE):\r\n",
    "            d_predict=avg_cost_np[1][d]\r\n",
    "            d_label=data_test[d][1]\r\n",
    "            '''if abs(d_predict-d_label)<0.5:\r\n",
    "                test_correct_num+=1'''\r\n",
    "            if (d_predict[0]<=d_predict[1] and d_label==1) or (d_predict[0]>d_predict[1] and d_label==0):\r\n",
    "                test_correct_num+=1\r\n",
    "    acc=test_correct_num/test_num\r\n",
    "    print('acc:',acc)\r\n",
    "    if acc>0.98:\r\n",
    "        model_save=model_save_dir+str(acc)+\"url.model\"\r\n",
    "        if not os.path.exists(model_save):\r\n",
    "            os.makedirs(model_save)\r\n",
    "        print('save model to %s'%(model_save))\r\n",
    "        fluid.io.save_inference_model(model_save,\r\n",
    "                                    ['image'],\r\n",
    "                                    [predict],\r\n",
    "                                    exe)\r\n",
    "model_save=model_save_dir+\"final_url.model\"\r\n",
    "if not os.path.exists(model_save):\r\n",
    "    os.makedirs(model_save)\r\n",
    "print('save model to %s'%(model_save))\r\n",
    "fluid.io.save_inference_model(model_save,['image'],[predict],exe)\r\n",
    "print('训练结束！')\r\n",
    "Draw_training_process(\"Training Process\",Train_iters,Train_costs,Train_batchs_accs,\"Training cost\",\"Training accuracy\")"
   ]
  },
  {
   "cell_type": "code",
   "execution_count": 19,
   "metadata": {
    "collapsed": false
   },
   "outputs": [
    {
     "name": "stdout",
     "output_type": "stream",
     "text": [
      "[array([0.7829125], dtype=float32), array([27.647999], dtype=float32), array([22.429405], dtype=float32), array([33.74564], dtype=float32), array([14.699019], dtype=float32), array([17.062876], dtype=float32), array([3.9210467], dtype=float32), array([12.787167], dtype=float32), array([12.235413], dtype=float32), array([6.5469265], dtype=float32), array([1.311299], dtype=float32), array([2.5043178], dtype=float32), array([3.172865], dtype=float32), array([3.0362859], dtype=float32), array([2.567845], dtype=float32), array([1.3064278], dtype=float32), array([0.8717411], dtype=float32), array([0.8176306], dtype=float32), array([1.3559885], dtype=float32), array([1.1313436], dtype=float32), array([1.0256999], dtype=float32), array([0.98900974], dtype=float32), array([0.84946966], dtype=float32), array([0.71820325], dtype=float32), array([0.7521667], dtype=float32), array([0.7695413], dtype=float32), array([0.7114067], dtype=float32), array([0.72675157], dtype=float32), array([0.7046457], dtype=float32), array([0.7083853], dtype=float32), array([0.72903943], dtype=float32), array([0.70138717], dtype=float32), array([0.71192694], dtype=float32), array([0.6827197], dtype=float32), array([0.7850746], dtype=float32), array([0.6942816], dtype=float32), array([0.73854387], dtype=float32), array([0.70416343], dtype=float32), array([0.70051086], dtype=float32), array([0.7014386], dtype=float32), array([0.70652926], dtype=float32), array([0.6762173], dtype=float32), array([0.67996156], dtype=float32), array([0.6753266], dtype=float32), array([0.6993332], dtype=float32), array([0.71005505], dtype=float32), array([0.700714], dtype=float32), array([0.6840759], dtype=float32), array([0.7178702], dtype=float32), array([0.73940396], dtype=float32), array([0.6848195], dtype=float32), array([0.6884219], dtype=float32), array([0.693511], dtype=float32), array([0.71823573], dtype=float32), array([0.7363559], dtype=float32), array([0.6883913], dtype=float32), array([0.70231265], dtype=float32), array([0.71119463], dtype=float32), array([0.67784196], dtype=float32), array([0.7019999], dtype=float32), array([0.7740823], dtype=float32), array([0.721334], dtype=float32), array([0.7310715], dtype=float32), array([0.7128929], dtype=float32), array([0.6935187], dtype=float32), array([0.67572594], dtype=float32), array([0.69273084], dtype=float32), array([0.74233973], dtype=float32), array([0.6693649], dtype=float32), array([0.6851082], dtype=float32), array([0.7113818], dtype=float32), array([0.68660665], dtype=float32), array([0.7306266], dtype=float32), array([0.70365095], dtype=float32), array([0.6828266], dtype=float32), array([0.7033507], dtype=float32), array([0.70428467], dtype=float32), array([0.6898566], dtype=float32), array([0.6777552], dtype=float32), array([0.68872625], dtype=float32), array([0.6944097], dtype=float32), array([0.6928996], dtype=float32), array([0.7175981], dtype=float32), array([0.73337954], dtype=float32), array([0.6913861], dtype=float32), array([0.6905961], dtype=float32), array([0.70141107], dtype=float32), array([0.6989147], dtype=float32), array([0.68675494], dtype=float32), array([0.7020264], dtype=float32), array([0.6906493], dtype=float32), array([0.69015914], dtype=float32), array([0.6988121], dtype=float32), array([0.6889592], dtype=float32), array([0.6891657], dtype=float32), array([0.6866728], dtype=float32), array([0.68069094], dtype=float32), array([0.6950789], dtype=float32), array([0.6797651], dtype=float32), array([0.69202554], dtype=float32)]\n",
      "---------------\n",
      "[array([0.7829125], dtype=float32), array([27.647999], dtype=float32), array([22.429405], dtype=float32), array([33.74564], dtype=float32), array([14.699019], dtype=float32), array([17.062876], dtype=float32), array([3.9210467], dtype=float32), array([12.787167], dtype=float32), array([12.235413], dtype=float32), array([6.5469265], dtype=float32), array([1.311299], dtype=float32), array([2.5043178], dtype=float32), array([3.172865], dtype=float32), array([3.0362859], dtype=float32), array([2.567845], dtype=float32)]\n"
     ]
    }
   ],
   "source": [
    "print(Train_costs[0:100])\r\n",
    "print(\"---------------\")\r\n",
    "print(Train_costs[0:15])"
   ]
  },
  {
   "cell_type": "code",
   "execution_count": 27,
   "metadata": {
    "collapsed": false
   },
   "outputs": [
    {
     "data": {
      "image/png": "[encoded data removed]",
      "text/plain": [
       "<Figure size 432x288 with 1 Axes>"
      ]
     },
     "metadata": {},
     "output_type": "display_data"
    }
   ],
   "source": [
    "Draw_training_process(\"Training Process\",Train_iters[10:],Train_costs[10:],Train_batchs_accs[10:],\"Training cost\",\"Training accuracy\")"
   ]
  },
  {
   "cell_type": "code",
   "execution_count": null,
   "metadata": {
    "collapsed": false
   },
   "outputs": [],
   "source": []
  },
  {
   "cell_type": "code",
   "execution_count": null,
   "metadata": {
    "collapsed": false
   },
   "outputs": [],
   "source": [
    "print(train_data[])"
   ]
  }
 ],
 "metadata": {
  "kernelspec": {
   "display_name": "PaddlePaddle 1.7.1 (Python 3.5)",
   "language": "python",
   "name": "py35-paddle1.2.0"
  },
  "language_info": {
   "codemirror_mode": {
    "name": "ipython",
    "version": 3
   },
   "file_extension": ".py",
   "mimetype": "text/x-python",
   "name": "python",
   "nbconvert_exporter": "python",
   "pygments_lexer": "ipython3",
   "version": "3.7.4"
  }
 },
 "nbformat": 4,
 "nbformat_minor": 1
}
